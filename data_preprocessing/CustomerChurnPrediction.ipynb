{
 "cells": [
  {
   "cell_type": "markdown",
   "id": "15e67198",
   "metadata": {},
   "source": [
    "# Customer Churn Analysis\n",
    "### Team-5\n",
    "#### Aishwarya Paruchuri\n",
    "#### Archita Chakraborty\n",
    "#### Manjushree Barike Rajanna\n",
    "#### Rohit Chandra"
   ]
  },
  {
   "cell_type": "markdown",
   "id": "4bf5600f",
   "metadata": {},
   "source": [
    " ** Python statements that import the standard libraries **"
   ]
  },
  {
   "cell_type": "code",
   "execution_count": 1,
   "id": "eef8cb55",
   "metadata": {
    "ExecuteTime": {
     "end_time": "2021-11-16T18:56:37.129875Z",
     "start_time": "2021-11-16T18:56:37.120889Z"
    }
   },
   "outputs": [],
   "source": [
    "import numpy as np\n",
    "import pandas as pd\n",
    "import seaborn as sn\n",
    "import matplotlib.pyplot as plt\n",
    "import warnings\n",
    "warnings.filterwarnings('ignore')"
   ]
  },
  {
   "cell_type": "code",
   "execution_count": 2,
   "id": "2586464f",
   "metadata": {
    "ExecuteTime": {
     "end_time": "2021-11-16T18:56:37.438730Z",
     "start_time": "2021-11-16T18:56:37.408813Z"
    }
   },
   "outputs": [
    {
     "data": {
      "text/html": [
       "<div>\n",
       "<style scoped>\n",
       "    .dataframe tbody tr th:only-of-type {\n",
       "        vertical-align: middle;\n",
       "    }\n",
       "\n",
       "    .dataframe tbody tr th {\n",
       "        vertical-align: top;\n",
       "    }\n",
       "\n",
       "    .dataframe thead th {\n",
       "        text-align: right;\n",
       "    }\n",
       "</style>\n",
       "<table border=\"1\" class=\"dataframe\">\n",
       "  <thead>\n",
       "    <tr style=\"text-align: right;\">\n",
       "      <th></th>\n",
       "      <th>Call  Failure</th>\n",
       "      <th>Complains</th>\n",
       "      <th>Subscription  Length</th>\n",
       "      <th>Charge  Amount</th>\n",
       "      <th>Seconds of Use</th>\n",
       "      <th>Frequency of use</th>\n",
       "      <th>Frequency of SMS</th>\n",
       "      <th>Distinct Called Numbers</th>\n",
       "      <th>Tariff Plan</th>\n",
       "      <th>Status</th>\n",
       "      <th>Age</th>\n",
       "      <th>Customer Value</th>\n",
       "      <th>FN</th>\n",
       "      <th>FP</th>\n",
       "      <th>Churn</th>\n",
       "    </tr>\n",
       "  </thead>\n",
       "  <tbody>\n",
       "    <tr>\n",
       "      <th>0</th>\n",
       "      <td>8</td>\n",
       "      <td>0</td>\n",
       "      <td>38.0</td>\n",
       "      <td>0</td>\n",
       "      <td>4370</td>\n",
       "      <td>71.0</td>\n",
       "      <td>5.0</td>\n",
       "      <td>17.0</td>\n",
       "      <td>1</td>\n",
       "      <td>1</td>\n",
       "      <td>5</td>\n",
       "      <td>197.640</td>\n",
       "      <td>177.8760</td>\n",
       "      <td>69.7640</td>\n",
       "      <td>0</td>\n",
       "    </tr>\n",
       "    <tr>\n",
       "      <th>1</th>\n",
       "      <td>O</td>\n",
       "      <td>0</td>\n",
       "      <td>39.0</td>\n",
       "      <td>0</td>\n",
       "      <td>NaN</td>\n",
       "      <td>5.0</td>\n",
       "      <td>7.0</td>\n",
       "      <td>4.0</td>\n",
       "      <td>1</td>\n",
       "      <td>1</td>\n",
       "      <td>6</td>\n",
       "      <td>46.035</td>\n",
       "      <td>41.4315</td>\n",
       "      <td>60.0000</td>\n",
       "      <td>0</td>\n",
       "    </tr>\n",
       "    <tr>\n",
       "      <th>2</th>\n",
       "      <td>10</td>\n",
       "      <td>0</td>\n",
       "      <td>37.0</td>\n",
       "      <td>0</td>\n",
       "      <td>2453</td>\n",
       "      <td>60.0</td>\n",
       "      <td>359.0</td>\n",
       "      <td>24.0</td>\n",
       "      <td>1</td>\n",
       "      <td>1</td>\n",
       "      <td>2</td>\n",
       "      <td>1536.520</td>\n",
       "      <td>1382.8680</td>\n",
       "      <td>203.6520</td>\n",
       "      <td>0</td>\n",
       "    </tr>\n",
       "    <tr>\n",
       "      <th>3</th>\n",
       "      <td>10</td>\n",
       "      <td>0</td>\n",
       "      <td>38.0</td>\n",
       "      <td>0</td>\n",
       "      <td>4198</td>\n",
       "      <td>66.0</td>\n",
       "      <td>1.0</td>\n",
       "      <td>35.0</td>\n",
       "      <td>1</td>\n",
       "      <td>1</td>\n",
       "      <td>10</td>\n",
       "      <td>240.020</td>\n",
       "      <td>216.0180</td>\n",
       "      <td>74.0020</td>\n",
       "      <td>0</td>\n",
       "    </tr>\n",
       "    <tr>\n",
       "      <th>4</th>\n",
       "      <td>3</td>\n",
       "      <td>0</td>\n",
       "      <td>NaN</td>\n",
       "      <td>0</td>\n",
       "      <td>2393</td>\n",
       "      <td>58.0</td>\n",
       "      <td>2.0</td>\n",
       "      <td>33.0</td>\n",
       "      <td>1</td>\n",
       "      <td>1</td>\n",
       "      <td>9</td>\n",
       "      <td>145.805</td>\n",
       "      <td>131.2245</td>\n",
       "      <td>64.5805</td>\n",
       "      <td>0</td>\n",
       "    </tr>\n",
       "  </tbody>\n",
       "</table>\n",
       "</div>"
      ],
      "text/plain": [
       "  Call  Failure Complains  Subscription  Length Charge  Amount Seconds of Use  \\\n",
       "0             8         0                  38.0              0           4370   \n",
       "1             O         0                  39.0              0            NaN   \n",
       "2            10         0                  37.0              0           2453   \n",
       "3            10         0                  38.0              0           4198   \n",
       "4             3         0                   NaN              0           2393   \n",
       "\n",
       "   Frequency of use  Frequency of SMS  Distinct Called Numbers  Tariff Plan  \\\n",
       "0              71.0               5.0                     17.0            1   \n",
       "1               5.0               7.0                      4.0            1   \n",
       "2              60.0             359.0                     24.0            1   \n",
       "3              66.0               1.0                     35.0            1   \n",
       "4              58.0               2.0                     33.0            1   \n",
       "\n",
       "   Status  Age  Customer Value         FN        FP  Churn  \n",
       "0       1    5         197.640   177.8760   69.7640      0  \n",
       "1       1    6          46.035    41.4315   60.0000      0  \n",
       "2       1    2        1536.520  1382.8680  203.6520      0  \n",
       "3       1   10         240.020   216.0180   74.0020      0  \n",
       "4       1    9         145.805   131.2245   64.5805      0  "
      ]
     },
     "execution_count": 2,
     "metadata": {},
     "output_type": "execute_result"
    }
   ],
   "source": [
    "#read the csv file in a dataframe\n",
    "churn_df = pd.read_csv(\"../data/Customer_churn_raw.csv\")\n",
    "\n",
    "churn_df.head()"
   ]
  },
  {
   "cell_type": "code",
   "execution_count": 3,
   "id": "e7232853",
   "metadata": {
    "ExecuteTime": {
     "end_time": "2021-11-16T18:56:37.642788Z",
     "start_time": "2021-11-16T18:56:37.623840Z"
    }
   },
   "outputs": [],
   "source": [
    "#rename the columns\n",
    "churn_df=churn_df.rename(columns={\"Call  Failure\": \"call_failure\", \"Complains\": \"complains\", \"Subscription  Length\": \"subs_len\", \"Charge  Amount\": \"charge_amount\",\n",
    "                   \"Seconds of Use\": \"seconds_of_use\", \"Frequency of use\": \"freq_of_use\", \"Frequency of SMS\": \"freq_of_sms\", \"Distinct Called Numbers\": \"distinct_call_nums\",\n",
    "                   \"Age Group\": \"age_group\", \"Tariff Plan\": \"tariff_plan\", \"Status\": \"status\", \"Age\": \"age\", \"Customer Value\": \"customer_value\"})"
   ]
  },
  {
   "cell_type": "code",
   "execution_count": 4,
   "id": "2d859c42",
   "metadata": {
    "ExecuteTime": {
     "end_time": "2021-11-16T18:56:37.813104Z",
     "start_time": "2021-11-16T18:56:37.793177Z"
    }
   },
   "outputs": [
    {
     "data": {
      "text/plain": [
       "Index(['call_failure', 'complains', 'subs_len', 'charge_amount',\n",
       "       'seconds_of_use', 'freq_of_use', 'freq_of_sms', 'distinct_call_nums',\n",
       "       'tariff_plan', 'status', 'age', 'customer_value', 'FN', 'FP', 'Churn'],\n",
       "      dtype='object')"
      ]
     },
     "execution_count": 4,
     "metadata": {},
     "output_type": "execute_result"
    }
   ],
   "source": [
    "#print the columns\n",
    "churn_df.columns"
   ]
  },
  {
   "cell_type": "markdown",
   "id": "9227bc2e",
   "metadata": {},
   "source": [
    "## Exploratory Data Analysis"
   ]
  },
  {
   "cell_type": "code",
   "execution_count": 5,
   "id": "e8e3812a",
   "metadata": {
    "ExecuteTime": {
     "end_time": "2021-11-16T18:56:38.205306Z",
     "start_time": "2021-11-16T18:56:38.184362Z"
    }
   },
   "outputs": [
    {
     "data": {
      "text/html": [
       "<div>\n",
       "<style scoped>\n",
       "    .dataframe tbody tr th:only-of-type {\n",
       "        vertical-align: middle;\n",
       "    }\n",
       "\n",
       "    .dataframe tbody tr th {\n",
       "        vertical-align: top;\n",
       "    }\n",
       "\n",
       "    .dataframe thead th {\n",
       "        text-align: right;\n",
       "    }\n",
       "</style>\n",
       "<table border=\"1\" class=\"dataframe\">\n",
       "  <thead>\n",
       "    <tr style=\"text-align: right;\">\n",
       "      <th></th>\n",
       "      <th>call_failure</th>\n",
       "      <th>complains</th>\n",
       "      <th>subs_len</th>\n",
       "    </tr>\n",
       "  </thead>\n",
       "  <tbody>\n",
       "    <tr>\n",
       "      <th>0</th>\n",
       "      <td>8</td>\n",
       "      <td>0</td>\n",
       "      <td>38.0</td>\n",
       "    </tr>\n",
       "    <tr>\n",
       "      <th>1</th>\n",
       "      <td>O</td>\n",
       "      <td>0</td>\n",
       "      <td>39.0</td>\n",
       "    </tr>\n",
       "    <tr>\n",
       "      <th>2</th>\n",
       "      <td>10</td>\n",
       "      <td>0</td>\n",
       "      <td>37.0</td>\n",
       "    </tr>\n",
       "    <tr>\n",
       "      <th>3</th>\n",
       "      <td>10</td>\n",
       "      <td>0</td>\n",
       "      <td>38.0</td>\n",
       "    </tr>\n",
       "    <tr>\n",
       "      <th>4</th>\n",
       "      <td>3</td>\n",
       "      <td>0</td>\n",
       "      <td>NaN</td>\n",
       "    </tr>\n",
       "    <tr>\n",
       "      <th>...</th>\n",
       "      <td>...</td>\n",
       "      <td>...</td>\n",
       "      <td>...</td>\n",
       "    </tr>\n",
       "    <tr>\n",
       "      <th>3145</th>\n",
       "      <td>21</td>\n",
       "      <td>0</td>\n",
       "      <td>19.0</td>\n",
       "    </tr>\n",
       "    <tr>\n",
       "      <th>3146</th>\n",
       "      <td>17</td>\n",
       "      <td>0</td>\n",
       "      <td>17.0</td>\n",
       "    </tr>\n",
       "    <tr>\n",
       "      <th>3147</th>\n",
       "      <td>13</td>\n",
       "      <td>0</td>\n",
       "      <td>18.0</td>\n",
       "    </tr>\n",
       "    <tr>\n",
       "      <th>3148</th>\n",
       "      <td>7</td>\n",
       "      <td>0</td>\n",
       "      <td>11.0</td>\n",
       "    </tr>\n",
       "    <tr>\n",
       "      <th>3149</th>\n",
       "      <td>8</td>\n",
       "      <td>1</td>\n",
       "      <td>11.0</td>\n",
       "    </tr>\n",
       "  </tbody>\n",
       "</table>\n",
       "<p>3150 rows × 3 columns</p>\n",
       "</div>"
      ],
      "text/plain": [
       "     call_failure complains  subs_len\n",
       "0               8         0      38.0\n",
       "1               O         0      39.0\n",
       "2              10         0      37.0\n",
       "3              10         0      38.0\n",
       "4               3         0       NaN\n",
       "...           ...       ...       ...\n",
       "3145           21         0      19.0\n",
       "3146           17         0      17.0\n",
       "3147           13         0      18.0\n",
       "3148            7         0      11.0\n",
       "3149            8         1      11.0\n",
       "\n",
       "[3150 rows x 3 columns]"
      ]
     },
     "execution_count": 5,
     "metadata": {},
     "output_type": "execute_result"
    }
   ],
   "source": [
    "#filter out the 3 columns from the dataframe\n",
    "cols_3 = churn_df[['call_failure', 'complains', 'subs_len']]\n",
    "\n",
    "cols_3"
   ]
  },
  {
   "cell_type": "code",
   "execution_count": 6,
   "id": "99cb9545",
   "metadata": {
    "ExecuteTime": {
     "end_time": "2021-11-16T18:56:38.687209Z",
     "start_time": "2021-11-16T18:56:38.665269Z"
    }
   },
   "outputs": [
    {
     "name": "stdout",
     "output_type": "stream",
     "text": [
      "<class 'pandas.core.frame.DataFrame'>\n",
      "RangeIndex: 3150 entries, 0 to 3149\n",
      "Data columns (total 3 columns):\n",
      " #   Column        Non-Null Count  Dtype  \n",
      "---  ------        --------------  -----  \n",
      " 0   call_failure  3138 non-null   object \n",
      " 1   complains     3137 non-null   object \n",
      " 2   subs_len      3145 non-null   float64\n",
      "dtypes: float64(1), object(2)\n",
      "memory usage: 74.0+ KB\n"
     ]
    }
   ],
   "source": [
    "cols_3.info()\n"
   ]
  },
  {
   "cell_type": "code",
   "execution_count": 7,
   "id": "11a6a3d9",
   "metadata": {
    "ExecuteTime": {
     "end_time": "2021-11-16T18:56:39.767977Z",
     "start_time": "2021-11-16T18:56:39.753018Z"
    }
   },
   "outputs": [
    {
     "data": {
      "text/html": [
       "<div>\n",
       "<style scoped>\n",
       "    .dataframe tbody tr th:only-of-type {\n",
       "        vertical-align: middle;\n",
       "    }\n",
       "\n",
       "    .dataframe tbody tr th {\n",
       "        vertical-align: top;\n",
       "    }\n",
       "\n",
       "    .dataframe thead th {\n",
       "        text-align: right;\n",
       "    }\n",
       "</style>\n",
       "<table border=\"1\" class=\"dataframe\">\n",
       "  <thead>\n",
       "    <tr style=\"text-align: right;\">\n",
       "      <th></th>\n",
       "      <th>subs_len</th>\n",
       "    </tr>\n",
       "  </thead>\n",
       "  <tbody>\n",
       "    <tr>\n",
       "      <th>count</th>\n",
       "      <td>3145.000000</td>\n",
       "    </tr>\n",
       "    <tr>\n",
       "      <th>mean</th>\n",
       "      <td>32.333229</td>\n",
       "    </tr>\n",
       "    <tr>\n",
       "      <th>std</th>\n",
       "      <td>9.346742</td>\n",
       "    </tr>\n",
       "    <tr>\n",
       "      <th>min</th>\n",
       "      <td>-40.000000</td>\n",
       "    </tr>\n",
       "    <tr>\n",
       "      <th>25%</th>\n",
       "      <td>29.000000</td>\n",
       "    </tr>\n",
       "    <tr>\n",
       "      <th>50%</th>\n",
       "      <td>35.000000</td>\n",
       "    </tr>\n",
       "    <tr>\n",
       "      <th>75%</th>\n",
       "      <td>38.000000</td>\n",
       "    </tr>\n",
       "    <tr>\n",
       "      <th>max</th>\n",
       "      <td>47.000000</td>\n",
       "    </tr>\n",
       "  </tbody>\n",
       "</table>\n",
       "</div>"
      ],
      "text/plain": [
       "          subs_len\n",
       "count  3145.000000\n",
       "mean     32.333229\n",
       "std       9.346742\n",
       "min     -40.000000\n",
       "25%      29.000000\n",
       "50%      35.000000\n",
       "75%      38.000000\n",
       "max      47.000000"
      ]
     },
     "execution_count": 7,
     "metadata": {},
     "output_type": "execute_result"
    }
   ],
   "source": [
    "cols_3.describe()"
   ]
  },
  {
   "cell_type": "markdown",
   "id": "ed795f8d",
   "metadata": {},
   "source": [
    "### Check for null values"
   ]
  },
  {
   "cell_type": "code",
   "execution_count": 8,
   "id": "1b602610",
   "metadata": {
    "ExecuteTime": {
     "end_time": "2021-11-16T18:56:41.932610Z",
     "start_time": "2021-11-16T18:56:41.919623Z"
    }
   },
   "outputs": [
    {
     "data": {
      "text/plain": [
       "call_failure    12\n",
       "complains       13\n",
       "subs_len         5\n",
       "dtype: int64"
      ]
     },
     "execution_count": 8,
     "metadata": {},
     "output_type": "execute_result"
    }
   ],
   "source": [
    "#check for null values in \n",
    "cols_3.isna().sum()"
   ]
  },
  {
   "cell_type": "markdown",
   "id": "02c78b7c",
   "metadata": {
    "ExecuteTime": {
     "end_time": "2021-11-10T00:48:19.016069Z",
     "start_time": "2021-11-10T00:48:18.820566Z"
    }
   },
   "source": [
    "Observation : \n",
    "\n",
    "12 null values in call_failure,\n",
    "\n",
    "13 null values in complains,\n",
    "\n",
    "5 null values in subs_len"
   ]
  },
  {
   "cell_type": "markdown",
   "id": "b8779c36",
   "metadata": {},
   "source": [
    "### Data cleaning"
   ]
  },
  {
   "cell_type": "code",
   "execution_count": 9,
   "id": "708c883d",
   "metadata": {
    "ExecuteTime": {
     "end_time": "2021-11-16T18:56:43.788438Z",
     "start_time": "2021-11-16T18:56:43.767376Z"
    }
   },
   "outputs": [
    {
     "data": {
      "text/plain": [
       "0             664\n",
       "5             244\n",
       "7             166\n",
       "6             161\n",
       "8             156\n",
       "9             149\n",
       "3             140\n",
       "2             137\n",
       "4             133\n",
       "11            125\n",
       "10            124\n",
       "1             121\n",
       "13             99\n",
       "12             97\n",
       "14             85\n",
       "15             69\n",
       "16             67\n",
       "18             53\n",
       "17             45\n",
       "20             37\n",
       "19             33\n",
       "21             29\n",
       "23             25\n",
       "25             21\n",
       "22             21\n",
       "28             17\n",
       "26             17\n",
       "30             16\n",
       "24             16\n",
       "27             13\n",
       "O              13\n",
       "32              8\n",
       "29              7\n",
       "31              6\n",
       "o               4\n",
       "-0.0000009      4\n",
       "34              3\n",
       "33              3\n",
       "35              2\n",
       "36              2\n",
       "3$^             1\n",
       "0.05            1\n",
       "0.000001        1\n",
       "O'              1\n",
       "ooo             1\n",
       "-0.05           1\n",
       "Name: call_failure, dtype: int64"
      ]
     },
     "execution_count": 9,
     "metadata": {},
     "output_type": "execute_result"
    }
   ],
   "source": [
    "cols_3['call_failure'].value_counts()"
   ]
  },
  {
   "cell_type": "markdown",
   "id": "1ed7b8cc",
   "metadata": {},
   "source": [
    "**Observation:** Since the data is not consistent, we'll replace these values"
   ]
  },
  {
   "cell_type": "code",
   "execution_count": 10,
   "id": "460e5beb",
   "metadata": {
    "ExecuteTime": {
     "end_time": "2021-11-16T18:56:45.844341Z",
     "start_time": "2021-11-16T18:56:45.823397Z"
    }
   },
   "outputs": [],
   "source": [
    "cols_3['call_failure'] = pd.to_numeric(cols_3['call_failure'].astype(str).str.replace(',',''), errors='coerce').fillna(0).astype(int)"
   ]
  },
  {
   "cell_type": "code",
   "execution_count": 11,
   "id": "734dd467",
   "metadata": {
    "ExecuteTime": {
     "end_time": "2021-11-16T18:56:46.774699Z",
     "start_time": "2021-11-16T18:56:46.767719Z"
    }
   },
   "outputs": [],
   "source": [
    "#replace null values with 0\n",
    "cols_3[\"call_failure\"].replace(np.nan, 0, inplace=True )"
   ]
  },
  {
   "cell_type": "code",
   "execution_count": 12,
   "id": "ab9db3a6",
   "metadata": {
    "ExecuteTime": {
     "end_time": "2021-11-16T18:56:47.117659Z",
     "start_time": "2021-11-16T18:56:47.097715Z"
    }
   },
   "outputs": [
    {
     "data": {
      "text/plain": [
       "0            2859\n",
       "1             231\n",
       "OO             18\n",
       "o              12\n",
       "O               7\n",
       "-1              4\n",
       "11              1\n",
       "-112            1\n",
       "-11             1\n",
       "1999            1\n",
       "18-             1\n",
       "111111111       1\n",
       "Name: complains, dtype: int64"
      ]
     },
     "execution_count": 12,
     "metadata": {},
     "output_type": "execute_result"
    }
   ],
   "source": [
    "cols_3['complains'].value_counts()"
   ]
  },
  {
   "cell_type": "markdown",
   "id": "30f0b84e",
   "metadata": {
    "ExecuteTime": {
     "end_time": "2021-11-16T17:57:15.513729Z",
     "start_time": "2021-11-16T17:57:15.500763Z"
    }
   },
   "source": [
    " **Observation:** Since complains is boolean type we will chave to replace with weither 0 or 1"
   ]
  },
  {
   "cell_type": "code",
   "execution_count": 13,
   "id": "5734c2d7",
   "metadata": {
    "ExecuteTime": {
     "end_time": "2021-11-16T18:56:48.504472Z",
     "start_time": "2021-11-16T18:56:48.487519Z"
    },
    "scrolled": true
   },
   "outputs": [],
   "source": [
    "cols_3['complains'] = pd.to_numeric(cols_3['complains'].astype(str), errors='coerce').fillna(0).astype(int)"
   ]
  },
  {
   "cell_type": "code",
   "execution_count": 14,
   "id": "430a36be",
   "metadata": {
    "ExecuteTime": {
     "end_time": "2021-11-16T18:56:49.346900Z",
     "start_time": "2021-11-16T18:56:49.327952Z"
    }
   },
   "outputs": [
    {
     "data": {
      "text/plain": [
       " 0            2910\n",
       " 1             231\n",
       "-1               4\n",
       " 11              1\n",
       "-112             1\n",
       "-11              1\n",
       " 1999            1\n",
       " 111111111       1\n",
       "Name: complains, dtype: int64"
      ]
     },
     "execution_count": 14,
     "metadata": {},
     "output_type": "execute_result"
    }
   ],
   "source": [
    "cols_3['complains'].value_counts()"
   ]
  },
  {
   "cell_type": "code",
   "execution_count": 15,
   "id": "a75dc6a1",
   "metadata": {
    "ExecuteTime": {
     "end_time": "2021-11-16T18:56:50.857401Z",
     "start_time": "2021-11-16T18:56:50.848392Z"
    }
   },
   "outputs": [],
   "source": [
    "cols_3.loc[cols_3['complains'] != 0, 'complains'] = 1"
   ]
  },
  {
   "cell_type": "code",
   "execution_count": 16,
   "id": "c9c1d33b",
   "metadata": {
    "ExecuteTime": {
     "end_time": "2021-11-16T18:56:51.900655Z",
     "start_time": "2021-11-16T18:56:51.887657Z"
    }
   },
   "outputs": [
    {
     "data": {
      "text/plain": [
       "0    2910\n",
       "1     240\n",
       "Name: complains, dtype: int64"
      ]
     },
     "execution_count": 16,
     "metadata": {},
     "output_type": "execute_result"
    }
   ],
   "source": [
    "# Verification\n",
    "cols_3['complains'].value_counts()"
   ]
  },
  {
   "cell_type": "code",
   "execution_count": 17,
   "id": "7bf20c25",
   "metadata": {
    "ExecuteTime": {
     "end_time": "2021-11-16T18:56:52.616675Z",
     "start_time": "2021-11-16T18:56:52.607772Z"
    }
   },
   "outputs": [],
   "source": [
    "#replace all the null values with 1\n",
    "cols_3[\"call_failure\"].replace(np.nan, 1, inplace=True )"
   ]
  },
  {
   "cell_type": "code",
   "execution_count": 18,
   "id": "e8b99ebe",
   "metadata": {
    "ExecuteTime": {
     "end_time": "2021-11-16T18:56:53.802595Z",
     "start_time": "2021-11-16T18:56:53.786339Z"
    }
   },
   "outputs": [
    {
     "data": {
      "text/plain": [
       " 36.0000    272\n",
       " 38.0000    257\n",
       " 37.0000    226\n",
       " 35.0000    225\n",
       " 34.0000    201\n",
       " 39.0000    198\n",
       " 40.0000    182\n",
       " 33.0000    152\n",
       " 32.0000    121\n",
       " 41.0000    110\n",
       " 31.0000    104\n",
       " 30.0000     80\n",
       " 42.0000     80\n",
       " 29.0000     73\n",
       " 28.0000     59\n",
       " 27.0000     56\n",
       " 43.0000     56\n",
       " 25.0000     52\n",
       " 26.0000     45\n",
       " 44.0000     44\n",
       " 24.0000     40\n",
       " 23.0000     39\n",
       " 17.0000     32\n",
       " 15.0000     31\n",
       " 18.0000     30\n",
       " 16.0000     30\n",
       " 19.0000     29\n",
       " 20.0000     28\n",
       " 22.0000     26\n",
       " 11.0000     26\n",
       " 21.0000     25\n",
       " 14.0000     25\n",
       " 13.0000     24\n",
       " 45.0000     23\n",
       " 9.0000      22\n",
       " 7.0000      19\n",
       " 12.0000     19\n",
       " 10.0000     16\n",
       " 46.0000     13\n",
       " 8.0000      12\n",
       " 3.0000       8\n",
       " 6.0000       8\n",
       " 5.0000       6\n",
       " 4.0000       4\n",
       " 36.0009      4\n",
       "-35.0000      3\n",
       "-37.0000      3\n",
       "-40.0000      3\n",
       " 39.0010      3\n",
       " 47.0000      1\n",
       "Name: subs_len, dtype: int64"
      ]
     },
     "execution_count": 18,
     "metadata": {},
     "output_type": "execute_result"
    }
   ],
   "source": [
    "#Clean the subscription length column\n",
    "cols_3['subs_len'].value_counts()"
   ]
  },
  {
   "cell_type": "code",
   "execution_count": 19,
   "id": "95976e89",
   "metadata": {
    "ExecuteTime": {
     "end_time": "2021-11-16T18:56:55.430520Z",
     "start_time": "2021-11-16T18:56:55.415555Z"
    },
    "scrolled": true
   },
   "outputs": [],
   "source": [
    "cols_3['subs_len'] = cols_3['subs_len'].abs()"
   ]
  },
  {
   "cell_type": "code",
   "execution_count": 20,
   "id": "be7cc229",
   "metadata": {
    "ExecuteTime": {
     "end_time": "2021-11-16T18:56:57.540362Z",
     "start_time": "2021-11-16T18:56:57.529391Z"
    }
   },
   "outputs": [
    {
     "data": {
      "text/plain": [
       "36.0000    272\n",
       "38.0000    257\n",
       "37.0000    229\n",
       "35.0000    228\n",
       "34.0000    201\n",
       "39.0000    198\n",
       "40.0000    185\n",
       "33.0000    152\n",
       "32.0000    121\n",
       "41.0000    110\n",
       "31.0000    104\n",
       "30.0000     80\n",
       "42.0000     80\n",
       "29.0000     73\n",
       "28.0000     59\n",
       "43.0000     56\n",
       "27.0000     56\n",
       "25.0000     52\n",
       "26.0000     45\n",
       "44.0000     44\n",
       "24.0000     40\n",
       "23.0000     39\n",
       "17.0000     32\n",
       "15.0000     31\n",
       "16.0000     30\n",
       "18.0000     30\n",
       "19.0000     29\n",
       "20.0000     28\n",
       "22.0000     26\n",
       "11.0000     26\n",
       "14.0000     25\n",
       "21.0000     25\n",
       "13.0000     24\n",
       "45.0000     23\n",
       "9.0000      22\n",
       "12.0000     19\n",
       "7.0000      19\n",
       "10.0000     16\n",
       "46.0000     13\n",
       "8.0000      12\n",
       "3.0000       8\n",
       "6.0000       8\n",
       "5.0000       6\n",
       "36.0009      4\n",
       "4.0000       4\n",
       "39.0010      3\n",
       "47.0000      1\n",
       "Name: subs_len, dtype: int64"
      ]
     },
     "execution_count": 20,
     "metadata": {},
     "output_type": "execute_result"
    }
   ],
   "source": [
    "cols_3['subs_len'].value_counts()"
   ]
  },
  {
   "cell_type": "code",
   "execution_count": 21,
   "id": "88faf8f7",
   "metadata": {
    "ExecuteTime": {
     "end_time": "2021-11-16T18:57:03.692545Z",
     "start_time": "2021-11-16T18:57:03.680614Z"
    },
    "scrolled": true
   },
   "outputs": [],
   "source": [
    "cols_3['subs_len'].fillna(value=cols_3['subs_len'].mean(), inplace=True)"
   ]
  },
  {
   "cell_type": "code",
   "execution_count": 22,
   "id": "c26ad1ae",
   "metadata": {
    "ExecuteTime": {
     "end_time": "2021-11-16T18:58:01.409057Z",
     "start_time": "2021-11-16T18:58:01.395095Z"
    }
   },
   "outputs": [],
   "source": [
    "cols_3['subs_len'] = cols_3['subs_len'].astype(int)"
   ]
  },
  {
   "cell_type": "code",
   "execution_count": 23,
   "id": "ec57cc76",
   "metadata": {
    "ExecuteTime": {
     "end_time": "2021-11-16T18:58:03.159284Z",
     "start_time": "2021-11-16T18:58:03.152302Z"
    }
   },
   "outputs": [
    {
     "data": {
      "text/plain": [
       "call_failure    int64\n",
       "complains       int64\n",
       "subs_len        int64\n",
       "dtype: object"
      ]
     },
     "execution_count": 23,
     "metadata": {},
     "output_type": "execute_result"
    }
   ],
   "source": [
    "cols_3.dtypes"
   ]
  },
  {
   "cell_type": "code",
   "execution_count": 24,
   "id": "5dd8ec61",
   "metadata": {
    "ExecuteTime": {
     "end_time": "2021-11-16T18:58:06.244718Z",
     "start_time": "2021-11-16T18:58:06.224392Z"
    }
   },
   "outputs": [
    {
     "data": {
      "text/plain": [
       "36    276\n",
       "38    257\n",
       "37    229\n",
       "35    228\n",
       "34    201\n",
       "39    201\n",
       "40    185\n",
       "33    152\n",
       "32    126\n",
       "41    110\n",
       "31    104\n",
       "30     80\n",
       "42     80\n",
       "29     73\n",
       "28     59\n",
       "27     56\n",
       "43     56\n",
       "25     52\n",
       "26     45\n",
       "44     44\n",
       "24     40\n",
       "23     39\n",
       "17     32\n",
       "15     31\n",
       "18     30\n",
       "16     30\n",
       "19     29\n",
       "20     28\n",
       "11     26\n",
       "22     26\n",
       "21     25\n",
       "14     25\n",
       "13     24\n",
       "45     23\n",
       "9      22\n",
       "7      19\n",
       "12     19\n",
       "10     16\n",
       "46     13\n",
       "8      12\n",
       "3       8\n",
       "6       8\n",
       "5       6\n",
       "4       4\n",
       "47      1\n",
       "Name: subs_len, dtype: int64"
      ]
     },
     "execution_count": 24,
     "metadata": {},
     "output_type": "execute_result"
    }
   ],
   "source": [
    "cols_3['subs_len'].value_counts()"
   ]
  },
  {
   "cell_type": "code",
   "execution_count": 25,
   "id": "1a5ebde7",
   "metadata": {
    "ExecuteTime": {
     "end_time": "2021-11-16T18:58:14.966375Z",
     "start_time": "2021-11-16T18:58:14.952894Z"
    }
   },
   "outputs": [
    {
     "data": {
      "text/plain": [
       "call_failure    0\n",
       "complains       0\n",
       "subs_len        0\n",
       "dtype: int64"
      ]
     },
     "execution_count": 25,
     "metadata": {},
     "output_type": "execute_result"
    }
   ],
   "source": [
    "# Verification for null values\n",
    "\n",
    "cols_3.isna().sum()"
   ]
  },
  {
   "cell_type": "code",
   "execution_count": 26,
   "id": "10d175c7",
   "metadata": {},
   "outputs": [],
   "source": [
    "# Merging these clean columns to the original dataframe"
   ]
  },
  {
   "cell_type": "code",
   "execution_count": 27,
   "id": "2aa59d29",
   "metadata": {},
   "outputs": [],
   "source": [
    "churn_df = churn_df.drop(['call_failure', 'complains', 'subs_len'],axis = 1)\n",
    "churn_df = pd.concat([cols_3,churn_df],axis = 1)"
   ]
  },
  {
   "cell_type": "code",
   "execution_count": 28,
   "id": "aa7e21da",
   "metadata": {},
   "outputs": [
    {
     "data": {
      "text/plain": [
       "call_failure           0\n",
       "complains              0\n",
       "subs_len               0\n",
       "charge_amount          2\n",
       "seconds_of_use        39\n",
       "freq_of_use           19\n",
       "freq_of_sms            4\n",
       "distinct_call_nums     2\n",
       "tariff_plan            0\n",
       "status                 0\n",
       "age                    0\n",
       "customer_value        92\n",
       "FN                     0\n",
       "FP                     0\n",
       "Churn                  0\n",
       "dtype: int64"
      ]
     },
     "execution_count": 28,
     "metadata": {},
     "output_type": "execute_result"
    }
   ],
   "source": [
    "churn_df.isnull().sum()"
   ]
  },
  {
   "cell_type": "markdown",
   "id": "90224428",
   "metadata": {},
   "source": [
    "### Manjushree "
   ]
  },
  {
   "cell_type": "code",
   "execution_count": 29,
   "id": "5a1e5569",
   "metadata": {},
   "outputs": [],
   "source": [
    "#Filter the dataframe for cleaning and analysis\n",
    "\n",
    "col_4_5_12 = churn_df.filter(['charge_amount','customer_value','seconds_of_use','Churn'], axis=1)\n"
   ]
  },
  {
   "cell_type": "code",
   "execution_count": 30,
   "id": "d9eb1a9e",
   "metadata": {
    "scrolled": false
   },
   "outputs": [
    {
     "name": "stdout",
     "output_type": "stream",
     "text": [
      "<class 'pandas.core.frame.DataFrame'>\n",
      "RangeIndex: 3150 entries, 0 to 3149\n",
      "Data columns (total 4 columns):\n",
      " #   Column          Non-Null Count  Dtype  \n",
      "---  ------          --------------  -----  \n",
      " 0   charge_amount   3148 non-null   object \n",
      " 1   customer_value  3058 non-null   float64\n",
      " 2   seconds_of_use  3111 non-null   object \n",
      " 3   Churn           3150 non-null   int64  \n",
      "dtypes: float64(1), int64(1), object(2)\n",
      "memory usage: 98.6+ KB\n"
     ]
    }
   ],
   "source": [
    "#Summary of the dataframe\n",
    "\n",
    "col_4_5_12.info()"
   ]
  },
  {
   "cell_type": "code",
   "execution_count": 31,
   "id": "c24c9e52",
   "metadata": {},
   "outputs": [
    {
     "data": {
      "text/plain": [
       "charge_amount      2\n",
       "customer_value    92\n",
       "seconds_of_use    39\n",
       "Churn              0\n",
       "dtype: int64"
      ]
     },
     "execution_count": 31,
     "metadata": {},
     "output_type": "execute_result"
    }
   ],
   "source": [
    "#count the total number of null values in all the columns\n",
    "\n",
    "col_4_5_12.isnull().sum()"
   ]
  },
  {
   "cell_type": "markdown",
   "id": "b1f612eb",
   "metadata": {},
   "source": [
    "### Observations:\n",
    "\n",
    "Number of null values \n",
    "\n",
    "charge_amount : 2\n",
    "\n",
    "customer_value: 92\n",
    "\n",
    "Seconds_of_use : 39\n",
    "\n",
    "Churn:   0"
   ]
  },
  {
   "cell_type": "code",
   "execution_count": 32,
   "id": "72bba012",
   "metadata": {
    "scrolled": false
   },
   "outputs": [
    {
     "data": {
      "text/plain": [
       "0.000      40\n",
       "45.495     11\n",
       "40.440     10\n",
       "15.165      6\n",
       "25.275      5\n",
       "           ..\n",
       "99.520      1\n",
       "119.565     1\n",
       "165.520     1\n",
       "167.700     1\n",
       "868.140     1\n",
       "Name: customer_value, Length: 2654, dtype: int64"
      ]
     },
     "execution_count": 32,
     "metadata": {},
     "output_type": "execute_result"
    }
   ],
   "source": [
    "# Count the unique values in 'customer_value' column\n",
    "\n",
    "col_4_5_12['customer_value'].value_counts()"
   ]
  },
  {
   "cell_type": "code",
   "execution_count": 33,
   "id": "faaf8b20",
   "metadata": {},
   "outputs": [],
   "source": [
    "# Replace the null values with zero\n",
    "\n",
    "col_4_5_12['customer_value'].replace(np.nan, 0, inplace=True )"
   ]
  },
  {
   "cell_type": "code",
   "execution_count": 34,
   "id": "d73a8f6e",
   "metadata": {},
   "outputs": [],
   "source": [
    "# Replace the null values with zero\n",
    "\n",
    "col_4_5_12['charge_amount'].replace(np.nan, 0, inplace=True )"
   ]
  },
  {
   "cell_type": "code",
   "execution_count": 35,
   "id": "13aa149f",
   "metadata": {},
   "outputs": [
    {
     "data": {
      "text/plain": [
       "0          1755\n",
       "1           616\n",
       "2           393\n",
       "3           198\n",
       "4            76\n",
       "5            30\n",
       "8            19\n",
       "7            14\n",
       "9            13\n",
       "6            11\n",
       "10            7\n",
       "0             2\n",
       "o2            1\n",
       "o8            1\n",
       "o7            1\n",
       "o6            1\n",
       "o5            1\n",
       "o4            1\n",
       "o3            1\n",
       "-9            1\n",
       "o1            1\n",
       "o0            1\n",
       "2.00001       1\n",
       "o             1\n",
       "-1            1\n",
       "OOO           1\n",
       "-3            1\n",
       "OO            1\n",
       "Name: charge_amount, dtype: int64"
      ]
     },
     "execution_count": 35,
     "metadata": {},
     "output_type": "execute_result"
    }
   ],
   "source": [
    "col_4_5_12['charge_amount'].value_counts()"
   ]
  },
  {
   "cell_type": "markdown",
   "id": "0386bb50",
   "metadata": {},
   "source": [
    "#### Observations:\n",
    "\n",
    "Charge_amount has String values and negative values which needs to be replaced"
   ]
  },
  {
   "cell_type": "code",
   "execution_count": 36,
   "id": "e7919145",
   "metadata": {},
   "outputs": [],
   "source": [
    "#Replace incorrect values with correct values\n",
    "\n",
    "col_4_5_12['charge_amount'].replace(['OOO','OO','0','o','o0'], 0, inplace=True )\n",
    "col_4_5_12['charge_amount'].replace(['o1'], 1, inplace=True )\n",
    "col_4_5_12['charge_amount'].replace(['o7'], 7, inplace=True )\n",
    "col_4_5_12['charge_amount'].replace(['o2'], 2, inplace=True )\n",
    "col_4_5_12['charge_amount'].replace(['o4'], 4, inplace=True )\n",
    "col_4_5_12['charge_amount'].replace(['o8'], 8, inplace=True )\n",
    "col_4_5_12['charge_amount'].replace(['o5'], 5, inplace=True )\n",
    "col_4_5_12['charge_amount'].replace(['o3'], 3, inplace=True )\n",
    "col_4_5_12['charge_amount'].replace(['o6'], 6, inplace=True )\n",
    "col_4_5_12['charge_amount'].replace(['2.00001'], 2, inplace=True )"
   ]
  },
  {
   "cell_type": "code",
   "execution_count": 37,
   "id": "c76105af",
   "metadata": {},
   "outputs": [],
   "source": [
    "# Convert datatype to intgere and make negatives positive\n",
    "\n",
    "col_4_5_12['charge_amount'] = col_4_5_12['charge_amount'].astype(int)\n",
    "col_4_5_12['charge_amount'] = col_4_5_12['charge_amount'].abs()"
   ]
  },
  {
   "cell_type": "code",
   "execution_count": 38,
   "id": "f7167542",
   "metadata": {},
   "outputs": [
    {
     "data": {
      "text/plain": [
       "0     1761\n",
       "1      618\n",
       "2      395\n",
       "3      200\n",
       "4       77\n",
       "5       31\n",
       "8       20\n",
       "7       15\n",
       "9       14\n",
       "6       12\n",
       "10       7\n",
       "Name: charge_amount, dtype: int64"
      ]
     },
     "execution_count": 38,
     "metadata": {},
     "output_type": "execute_result"
    }
   ],
   "source": [
    "# Count the unique values in 'charge_amount' column\n",
    "\n",
    "col_4_5_12['charge_amount'].value_counts()"
   ]
  },
  {
   "cell_type": "code",
   "execution_count": 39,
   "id": "16bda811",
   "metadata": {
    "scrolled": true
   },
   "outputs": [
    {
     "data": {
      "text/plain": [
       "0       131\n",
       "305      37\n",
       "710       9\n",
       "1015      9\n",
       "2088      9\n",
       "       ... \n",
       "6028      1\n",
       "1330      1\n",
       "860       1\n",
       "335       1\n",
       "1082      1\n",
       "Name: seconds_of_use, Length: 1763, dtype: int64"
      ]
     },
     "execution_count": 39,
     "metadata": {},
     "output_type": "execute_result"
    }
   ],
   "source": [
    "# Count the unique values in 'seconds_of_use' column\n",
    "\n",
    "col_4_5_12['seconds_of_use'].value_counts()"
   ]
  },
  {
   "cell_type": "code",
   "execution_count": 40,
   "id": "34f0bfa0",
   "metadata": {},
   "outputs": [],
   "source": [
    "#Replace the null values with zeros\n",
    "\n",
    "col_4_5_12['seconds_of_use'].replace(np.nan, 0, inplace=True )"
   ]
  },
  {
   "cell_type": "code",
   "execution_count": 41,
   "id": "db7f5f39",
   "metadata": {},
   "outputs": [],
   "source": [
    "# Convert datatype to intgere and make negatives positive\n",
    "\n",
    "col_4_5_12['seconds_of_use'].replace(['O3915'], 3915, inplace=True )\n",
    "col_4_5_12['seconds_of_use'] = col_4_5_12['seconds_of_use'].astype(int)\n",
    "col_4_5_12['seconds_of_use'] = col_4_5_12['seconds_of_use'].abs()"
   ]
  },
  {
   "cell_type": "code",
   "execution_count": 42,
   "id": "b7c7a27a",
   "metadata": {},
   "outputs": [
    {
     "data": {
      "text/plain": [
       "0       170\n",
       "305      37\n",
       "1973      9\n",
       "1015      9\n",
       "710       9\n",
       "       ... \n",
       "3973      1\n",
       "2228      1\n",
       "4025      1\n",
       "2488      1\n",
       "1082      1\n",
       "Name: seconds_of_use, Length: 1750, dtype: int64"
      ]
     },
     "execution_count": 42,
     "metadata": {},
     "output_type": "execute_result"
    }
   ],
   "source": [
    "# Count the unique values in 'seconds_of_use' column\n",
    "\n",
    "col_4_5_12['seconds_of_use'].value_counts()"
   ]
  },
  {
   "cell_type": "code",
   "execution_count": 43,
   "id": "2e442d14",
   "metadata": {},
   "outputs": [
    {
     "data": {
      "text/plain": [
       "charge_amount     0\n",
       "customer_value    0\n",
       "seconds_of_use    0\n",
       "Churn             0\n",
       "dtype: int64"
      ]
     },
     "execution_count": 43,
     "metadata": {},
     "output_type": "execute_result"
    }
   ],
   "source": [
    "# Count the total number fo null values \n",
    "\n",
    "col_4_5_12.isnull().sum()"
   ]
  },
  {
   "cell_type": "code",
   "execution_count": 44,
   "id": "f9042531",
   "metadata": {},
   "outputs": [
    {
     "name": "stdout",
     "output_type": "stream",
     "text": [
      "<class 'pandas.core.frame.DataFrame'>\n",
      "RangeIndex: 3150 entries, 0 to 3149\n",
      "Data columns (total 4 columns):\n",
      " #   Column          Non-Null Count  Dtype  \n",
      "---  ------          --------------  -----  \n",
      " 0   charge_amount   3150 non-null   int64  \n",
      " 1   customer_value  3150 non-null   float64\n",
      " 2   seconds_of_use  3150 non-null   int64  \n",
      " 3   Churn           3150 non-null   int64  \n",
      "dtypes: float64(1), int64(3)\n",
      "memory usage: 98.6 KB\n"
     ]
    }
   ],
   "source": [
    "# Get the summary of dataframe\n",
    "\n",
    "col_4_5_12.info()"
   ]
  },
  {
   "cell_type": "markdown",
   "id": "c7d9b448",
   "metadata": {},
   "source": [
    "## AISHWARYA"
   ]
  },
  {
   "cell_type": "code",
   "execution_count": 45,
   "id": "39f58408",
   "metadata": {},
   "outputs": [],
   "source": [
    "col_4_5_12 = col_4_5_12.drop(['Churn'],axis = 1)\n",
    "churn_df = churn_df.drop(['charge_amount','seconds_of_use'],axis = 1)\n",
    "churn_df = churn_df.drop(['customer_value'],axis = 1)\n",
    "churn_df = pd.concat([col_4_5_12,churn_df],axis = 1)"
   ]
  },
  {
   "cell_type": "code",
   "execution_count": 46,
   "id": "e92d6f91",
   "metadata": {},
   "outputs": [
    {
     "data": {
      "text/html": [
       "<div>\n",
       "<style scoped>\n",
       "    .dataframe tbody tr th:only-of-type {\n",
       "        vertical-align: middle;\n",
       "    }\n",
       "\n",
       "    .dataframe tbody tr th {\n",
       "        vertical-align: top;\n",
       "    }\n",
       "\n",
       "    .dataframe thead th {\n",
       "        text-align: right;\n",
       "    }\n",
       "</style>\n",
       "<table border=\"1\" class=\"dataframe\">\n",
       "  <thead>\n",
       "    <tr style=\"text-align: right;\">\n",
       "      <th></th>\n",
       "      <th>call_failure</th>\n",
       "      <th>complains</th>\n",
       "      <th>subs_len</th>\n",
       "      <th>charge_amount</th>\n",
       "      <th>seconds_of_use</th>\n",
       "      <th>freq_of_use</th>\n",
       "      <th>freq_of_sms</th>\n",
       "      <th>distinct_call_nums</th>\n",
       "      <th>tariff_plan</th>\n",
       "      <th>status</th>\n",
       "      <th>age</th>\n",
       "      <th>customer_value</th>\n",
       "      <th>FN</th>\n",
       "      <th>FP</th>\n",
       "      <th>Churn</th>\n",
       "    </tr>\n",
       "  </thead>\n",
       "  <tbody>\n",
       "    <tr>\n",
       "      <th>0</th>\n",
       "      <td>8</td>\n",
       "      <td>0</td>\n",
       "      <td>38</td>\n",
       "      <td>0</td>\n",
       "      <td>4370</td>\n",
       "      <td>71.0</td>\n",
       "      <td>5.0</td>\n",
       "      <td>17.0</td>\n",
       "      <td>1</td>\n",
       "      <td>1</td>\n",
       "      <td>5</td>\n",
       "      <td>197.640</td>\n",
       "      <td>177.8760</td>\n",
       "      <td>69.7640</td>\n",
       "      <td>0</td>\n",
       "    </tr>\n",
       "    <tr>\n",
       "      <th>1</th>\n",
       "      <td>0</td>\n",
       "      <td>0</td>\n",
       "      <td>39</td>\n",
       "      <td>0</td>\n",
       "      <td>0</td>\n",
       "      <td>5.0</td>\n",
       "      <td>7.0</td>\n",
       "      <td>4.0</td>\n",
       "      <td>1</td>\n",
       "      <td>1</td>\n",
       "      <td>6</td>\n",
       "      <td>46.035</td>\n",
       "      <td>41.4315</td>\n",
       "      <td>60.0000</td>\n",
       "      <td>0</td>\n",
       "    </tr>\n",
       "    <tr>\n",
       "      <th>2</th>\n",
       "      <td>10</td>\n",
       "      <td>0</td>\n",
       "      <td>37</td>\n",
       "      <td>0</td>\n",
       "      <td>2453</td>\n",
       "      <td>60.0</td>\n",
       "      <td>359.0</td>\n",
       "      <td>24.0</td>\n",
       "      <td>1</td>\n",
       "      <td>1</td>\n",
       "      <td>2</td>\n",
       "      <td>1536.520</td>\n",
       "      <td>1382.8680</td>\n",
       "      <td>203.6520</td>\n",
       "      <td>0</td>\n",
       "    </tr>\n",
       "    <tr>\n",
       "      <th>3</th>\n",
       "      <td>10</td>\n",
       "      <td>0</td>\n",
       "      <td>38</td>\n",
       "      <td>0</td>\n",
       "      <td>4198</td>\n",
       "      <td>66.0</td>\n",
       "      <td>1.0</td>\n",
       "      <td>35.0</td>\n",
       "      <td>1</td>\n",
       "      <td>1</td>\n",
       "      <td>10</td>\n",
       "      <td>240.020</td>\n",
       "      <td>216.0180</td>\n",
       "      <td>74.0020</td>\n",
       "      <td>0</td>\n",
       "    </tr>\n",
       "    <tr>\n",
       "      <th>4</th>\n",
       "      <td>3</td>\n",
       "      <td>0</td>\n",
       "      <td>32</td>\n",
       "      <td>0</td>\n",
       "      <td>2393</td>\n",
       "      <td>58.0</td>\n",
       "      <td>2.0</td>\n",
       "      <td>33.0</td>\n",
       "      <td>1</td>\n",
       "      <td>1</td>\n",
       "      <td>9</td>\n",
       "      <td>145.805</td>\n",
       "      <td>131.2245</td>\n",
       "      <td>64.5805</td>\n",
       "      <td>0</td>\n",
       "    </tr>\n",
       "  </tbody>\n",
       "</table>\n",
       "</div>"
      ],
      "text/plain": [
       "   call_failure  complains  subs_len  charge_amount  seconds_of_use  \\\n",
       "0             8          0        38              0            4370   \n",
       "1             0          0        39              0               0   \n",
       "2            10          0        37              0            2453   \n",
       "3            10          0        38              0            4198   \n",
       "4             3          0        32              0            2393   \n",
       "\n",
       "   freq_of_use  freq_of_sms  distinct_call_nums  tariff_plan  status  age  \\\n",
       "0         71.0          5.0                17.0            1       1    5   \n",
       "1          5.0          7.0                 4.0            1       1    6   \n",
       "2         60.0        359.0                24.0            1       1    2   \n",
       "3         66.0          1.0                35.0            1       1   10   \n",
       "4         58.0          2.0                33.0            1       1    9   \n",
       "\n",
       "   customer_value         FN        FP  Churn  \n",
       "0         197.640   177.8760   69.7640      0  \n",
       "1          46.035    41.4315   60.0000      0  \n",
       "2        1536.520  1382.8680  203.6520      0  \n",
       "3         240.020   216.0180   74.0020      0  \n",
       "4         145.805   131.2245   64.5805      0  "
      ]
     },
     "execution_count": 46,
     "metadata": {},
     "output_type": "execute_result"
    }
   ],
   "source": [
    "churn_df = churn_df[['call_failure', 'complains', 'subs_len', 'charge_amount',\n",
    "       'seconds_of_use', 'freq_of_use', 'freq_of_sms', 'distinct_call_nums',\n",
    "       'tariff_plan', 'status', 'age', 'customer_value', 'FN', 'FP', 'Churn']]\n",
    "churn_df.head()"
   ]
  },
  {
   "cell_type": "code",
   "execution_count": 47,
   "id": "4b868e47",
   "metadata": {},
   "outputs": [
    {
     "data": {
      "text/plain": [
       "call_failure           0\n",
       "complains              0\n",
       "subs_len               0\n",
       "charge_amount          0\n",
       "seconds_of_use         0\n",
       "freq_of_use           19\n",
       "freq_of_sms            4\n",
       "distinct_call_nums     2\n",
       "tariff_plan            0\n",
       "status                 0\n",
       "age                    0\n",
       "customer_value         0\n",
       "FN                     0\n",
       "FP                     0\n",
       "Churn                  0\n",
       "dtype: int64"
      ]
     },
     "execution_count": 47,
     "metadata": {},
     "output_type": "execute_result"
    }
   ],
   "source": [
    "# Check for null values\n",
    "churn_df.isnull().sum()"
   ]
  },
  {
   "cell_type": "markdown",
   "id": "921a017f",
   "metadata": {},
   "source": [
    "### Check for null values in freq_of_use , freq_of_sms columns and distinct_call_nums"
   ]
  },
  {
   "cell_type": "markdown",
   "id": "abda8264",
   "metadata": {},
   "source": [
    "Description about the columns:\n",
    "1. Frequency of use: total number of calls\n",
    "2. Frequency of SMS: total number of text messages\n",
    "3. Distinct Called Numbers: total number of distinct phone calls"
   ]
  },
  {
   "cell_type": "code",
   "execution_count": 48,
   "id": "ac7c43db",
   "metadata": {},
   "outputs": [
    {
     "name": "stdout",
     "output_type": "stream",
     "text": [
      "Number of null values in freq_of_use: 19\n",
      "Number of null values in freq_of_sms: 4\n",
      "Number of null values in distinct_call_nums: 2\n"
     ]
    }
   ],
   "source": [
    "# Checking for null values in freq_of_use column\n",
    "print('Number of null values in freq_of_use:',churn_df['freq_of_use'].isnull().sum())\n",
    "# Checking for null values in freq_of_sms column\n",
    "print('Number of null values in freq_of_sms:',churn_df['freq_of_sms'].isnull().sum())\n",
    "# Checking for null values in distinct_call_nums column\n",
    "print('Number of null values in distinct_call_nums:',churn_df['distinct_call_nums'].isnull().sum())"
   ]
  },
  {
   "cell_type": "code",
   "execution_count": 49,
   "id": "6f9928a8",
   "metadata": {},
   "outputs": [
    {
     "name": "stdout",
     "output_type": "stream",
     "text": [
      "Maximum value in freq_of_use 255.0\n",
      "Minimum value in freq_of_use -176.0\n",
      "Maximum value in freq_of_sms 522.0\n",
      "Minimum value in freq_of_sms -9.0\n",
      "Maximum value in distinct_call_nums 97.0\n",
      "Minimum value in distinct_call_nums 0.0\n"
     ]
    }
   ],
   "source": [
    "# Checking if there are any negative values or extreme values. As these columns cant have negative numbers as values\n",
    "print('Maximum value in freq_of_use',churn_df['freq_of_use'].max())\n",
    "print('Minimum value in freq_of_use',churn_df['freq_of_use'].min())\n",
    "print('Maximum value in freq_of_sms',churn_df['freq_of_sms'].max())\n",
    "print('Minimum value in freq_of_sms',churn_df['freq_of_sms'].min())\n",
    "print('Maximum value in distinct_call_nums',churn_df['distinct_call_nums'].max())\n",
    "print('Minimum value in distinct_call_nums',churn_df['distinct_call_nums'].min())"
   ]
  },
  {
   "cell_type": "markdown",
   "id": "37af315c",
   "metadata": {},
   "source": [
    "Observation\n",
    "1. freq_of_use, freq_of_sms has some negative values\n",
    "2. distinct_call_nums has no negative values"
   ]
  },
  {
   "cell_type": "markdown",
   "id": "26169b71",
   "metadata": {},
   "source": [
    "### Imputing null values with mean"
   ]
  },
  {
   "cell_type": "markdown",
   "id": "9582e880",
   "metadata": {},
   "source": [
    "These three columns are numerical and are related to the number of calls and SMS sent by consumers, it would be more appropriate to impute null values with the mean value."
   ]
  },
  {
   "cell_type": "code",
   "execution_count": 50,
   "id": "964d4427",
   "metadata": {},
   "outputs": [],
   "source": [
    "# Imputing mean values in place of null values\n",
    "cols = churn_df.iloc[:,[5,6,7]]\n",
    "for x in cols.columns:\n",
    "    mean_column = np.nanmean(churn_df[x].values)\n",
    "    churn_df[x].replace(np.nan, mean_column, inplace=True)"
   ]
  },
  {
   "cell_type": "code",
   "execution_count": 51,
   "id": "97c5d7d6",
   "metadata": {},
   "outputs": [
    {
     "name": "stdout",
     "output_type": "stream",
     "text": [
      "Number of null values in freq_of_use: 0\n",
      "Number of null values in freq_of_sms: 0\n",
      "Number of null values in distinct_call_nums: 0\n"
     ]
    }
   ],
   "source": [
    "# Checking for null values in freq_of_use column\n",
    "print('Number of null values in freq_of_use:',churn_df['freq_of_use'].isnull().sum())\n",
    "# Checking for null values in freq_of_sms column\n",
    "print('Number of null values in freq_of_sms:',churn_df['freq_of_sms'].isnull().sum())\n",
    "# Checking for null values in distinct_call_nums column\n",
    "print('Number of null values in distinct_call_nums:',churn_df['distinct_call_nums'].isnull().sum())"
   ]
  },
  {
   "cell_type": "markdown",
   "id": "3f4f3e96",
   "metadata": {},
   "source": [
    "Observation:\n",
    "\n",
    "As we can see, now these three columns are free of null values"
   ]
  },
  {
   "cell_type": "markdown",
   "id": "e1ec64a8",
   "metadata": {},
   "source": [
    "### Removing -  symbol from the columns"
   ]
  },
  {
   "cell_type": "code",
   "execution_count": 52,
   "id": "85371607",
   "metadata": {},
   "outputs": [],
   "source": [
    "# Eliminating the - symbol since the amount of text messages or phone calls cannot be negative.\n",
    "for i in cols.columns:\n",
    "    churn_df[i] = abs(churn_df[i])"
   ]
  },
  {
   "cell_type": "code",
   "execution_count": 53,
   "id": "f3614295",
   "metadata": {},
   "outputs": [
    {
     "name": "stdout",
     "output_type": "stream",
     "text": [
      "Minimum value in freq_of_use 0.0\n",
      "Minimum value in freq_of_sms 0.0\n",
      "Minimum value in distinct_call_nums 0.0\n"
     ]
    }
   ],
   "source": [
    "#Checking if there are any negative values or extreme values. As these columns cant have negative numbers as values\n",
    "print('Minimum value in freq_of_use',churn_df['freq_of_use'].min())\n",
    "print('Minimum value in freq_of_sms',churn_df['freq_of_sms'].min())\n",
    "print('Minimum value in distinct_call_nums',churn_df['distinct_call_nums'].min())"
   ]
  },
  {
   "cell_type": "markdown",
   "id": "d375c766",
   "metadata": {},
   "source": [
    "Observation:\n",
    "    \n",
    "We dont have any negative values in the columns "
   ]
  },
  {
   "cell_type": "markdown",
   "id": "5e0c55b4",
   "metadata": {},
   "source": [
    "## Archita"
   ]
  },
  {
   "cell_type": "markdown",
   "id": "a930fed3",
   "metadata": {},
   "source": [
    "### Correcting incorrect values in age column and then creating a Age group column for clear seggregation of data"
   ]
  },
  {
   "cell_type": "code",
   "execution_count": 54,
   "id": "a3405fbf",
   "metadata": {},
   "outputs": [
    {
     "data": {
      "text/plain": [
       "call_failure            int64\n",
       "complains               int64\n",
       "subs_len                int64\n",
       "charge_amount           int64\n",
       "seconds_of_use          int64\n",
       "freq_of_use           float64\n",
       "freq_of_sms           float64\n",
       "distinct_call_nums    float64\n",
       "tariff_plan             int64\n",
       "status                  int64\n",
       "age                     int64\n",
       "customer_value        float64\n",
       "FN                    float64\n",
       "FP                    float64\n",
       "Churn                   int64\n",
       "dtype: object"
      ]
     },
     "execution_count": 54,
     "metadata": {},
     "output_type": "execute_result"
    }
   ],
   "source": [
    "churn_df.dtypes"
   ]
  },
  {
   "cell_type": "code",
   "execution_count": 55,
   "id": "8f6bdd55",
   "metadata": {},
   "outputs": [
    {
     "data": {
      "text/plain": [
       " 42     110\n",
       " 44     102\n",
       " 34     102\n",
       " 41     101\n",
       " 32     100\n",
       "       ... \n",
       " 4        3\n",
       " 6        2\n",
       " 233      1\n",
       " 220      1\n",
       "-13       1\n",
       "Name: age, Length: 79, dtype: int64"
      ]
     },
     "metadata": {},
     "output_type": "display_data"
    }
   ],
   "source": [
    "#displaying distinct values in age column\n",
    "display(churn_df['age'].value_counts() )"
   ]
  },
  {
   "cell_type": "code",
   "execution_count": 56,
   "id": "e7aad62c",
   "metadata": {},
   "outputs": [],
   "source": [
    "#adding a new ageGroup column to the data set\n",
    "churn_df.insert(11, \"ageGroup\",0)"
   ]
  },
  {
   "cell_type": "code",
   "execution_count": 57,
   "id": "a2df0784",
   "metadata": {},
   "outputs": [],
   "source": [
    "#calculating the mean of all the ages to replace any incorrect with mean\n",
    "df_mean = round(churn_df[\"age\"].mean())"
   ]
  },
  {
   "cell_type": "code",
   "execution_count": 58,
   "id": "2ec21fac",
   "metadata": {},
   "outputs": [
    {
     "data": {
      "text/plain": [
       "35"
      ]
     },
     "execution_count": 58,
     "metadata": {},
     "output_type": "execute_result"
    }
   ],
   "source": [
    "df_mean"
   ]
  },
  {
   "cell_type": "code",
   "execution_count": 59,
   "id": "0dd5d87e",
   "metadata": {},
   "outputs": [],
   "source": [
    "#correcting data in age column by replacing negative or unusual age numbers with mean age\n",
    "for i in range(len(churn_df)):\n",
    "    if(churn_df.loc[i,'age'] < 0) | (churn_df.loc[i,'age'] > 100) :\n",
    "        churn_df.loc[i,'age'] = df_mean "
   ]
  },
  {
   "cell_type": "code",
   "execution_count": 60,
   "id": "4d0a7e8f",
   "metadata": {},
   "outputs": [],
   "source": [
    "for i in range(len(churn_df)):\n",
    "    if  (churn_df.loc[i,'age'] > 0) & (churn_df.loc[i,'age']<=15) :  \n",
    "        churn_df.loc[i,'ageGroup'] = 1  \n",
    "    if  (churn_df.loc[i,'age'] > 15) & (churn_df.loc[i,'age']<=30) :  \n",
    "        churn_df.loc[i,'ageGroup'] = 2 \n",
    "    if  (churn_df.loc[i,'age'] > 30) & (churn_df.loc[i,'age']<=45) :  \n",
    "        churn_df.loc[i,'ageGroup'] = 3 \n",
    "    if  (churn_df.loc[i,'age'] > 45) & (churn_df.loc[i,'age']<=60) :  \n",
    "        churn_df.loc[i,'ageGroup'] = 4 \n",
    "    if  (churn_df.loc[i,'age'] > 60) & (churn_df.loc[i,'age']<=80) :  \n",
    "        churn_df.loc[i,'ageGroup'] = 5\n",
    "    if  (churn_df.loc[i,'age'] > 80) & (churn_df.loc[i,'age']< 0) :  \n",
    "        churn_df.loc[i,'ageGroup'] = 2    "
   ]
  },
  {
   "cell_type": "code",
   "execution_count": 61,
   "id": "99806bad",
   "metadata": {},
   "outputs": [
    {
     "data": {
      "text/plain": [
       "3    1361\n",
       "2    1130\n",
       "4     387\n",
       "5     152\n",
       "1     111\n",
       "0       9\n",
       "Name: ageGroup, dtype: int64"
      ]
     },
     "metadata": {},
     "output_type": "display_data"
    }
   ],
   "source": [
    "  display(churn_df['ageGroup'].value_counts() )"
   ]
  },
  {
   "cell_type": "markdown",
   "id": "94cce797",
   "metadata": {},
   "source": [
    "# Aishwarya"
   ]
  },
  {
   "cell_type": "code",
   "execution_count": 62,
   "id": "45b84de6",
   "metadata": {},
   "outputs": [
    {
     "data": {
      "text/plain": [
       "call_failure          0\n",
       "complains             0\n",
       "subs_len              0\n",
       "charge_amount         0\n",
       "seconds_of_use        0\n",
       "freq_of_use           0\n",
       "freq_of_sms           0\n",
       "distinct_call_nums    0\n",
       "tariff_plan           0\n",
       "status                0\n",
       "age                   0\n",
       "ageGroup              0\n",
       "customer_value        0\n",
       "FN                    0\n",
       "FP                    0\n",
       "Churn                 0\n",
       "dtype: int64"
      ]
     },
     "execution_count": 62,
     "metadata": {},
     "output_type": "execute_result"
    }
   ],
   "source": [
    "# Checking for null values in the dataset\n",
    "churn_df.isnull().sum()"
   ]
  },
  {
   "cell_type": "code",
   "execution_count": 63,
   "id": "b2679e8c",
   "metadata": {},
   "outputs": [
    {
     "data": {
      "text/plain": [
       "call_failure            int64\n",
       "complains               int64\n",
       "subs_len                int64\n",
       "charge_amount           int64\n",
       "seconds_of_use          int64\n",
       "freq_of_use           float64\n",
       "freq_of_sms           float64\n",
       "distinct_call_nums    float64\n",
       "tariff_plan             int64\n",
       "status                  int64\n",
       "age                     int64\n",
       "ageGroup                int64\n",
       "customer_value        float64\n",
       "FN                    float64\n",
       "FP                    float64\n",
       "Churn                   int64\n",
       "dtype: object"
      ]
     },
     "execution_count": 63,
     "metadata": {},
     "output_type": "execute_result"
    }
   ],
   "source": [
    "# Checking if any of the columns is misclassified due to data discrepancies \n",
    "churn_df.dtypes"
   ]
  },
  {
   "cell_type": "markdown",
   "id": "3a8e3c0b",
   "metadata": {},
   "source": [
    "As we can see, our dataset is free of null values and none of the columns seems to be misclassified as some other type of data we can load the dataset onto a csv file and use it for model building and visualization"
   ]
  },
  {
   "cell_type": "code",
   "execution_count": 64,
   "id": "59681007",
   "metadata": {},
   "outputs": [],
   "source": [
    "churn_df.to_csv('churn_final.csv',index = False)"
   ]
  }
 ],
 "metadata": {
  "kernelspec": {
   "display_name": "Python 3 (ipykernel)",
   "language": "python",
   "name": "python3"
  },
  "language_info": {
   "codemirror_mode": {
    "name": "ipython",
    "version": 3
   },
   "file_extension": ".py",
   "mimetype": "text/x-python",
   "name": "python",
   "nbconvert_exporter": "python",
   "pygments_lexer": "ipython3",
   "version": "3.8.8"
  }
 },
 "nbformat": 4,
 "nbformat_minor": 5
}
